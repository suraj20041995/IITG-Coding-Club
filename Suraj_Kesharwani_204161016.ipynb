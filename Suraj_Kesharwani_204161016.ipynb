{
  "nbformat": 4,
  "nbformat_minor": 0,
  "metadata": {
    "colab": {
      "name": "IITG Coding Club ML Task.ipynb",
      "provenance": [],
      "toc_visible": true
    },
    "kernelspec": {
      "name": "python3",
      "display_name": "Python 3"
    },
    "language_info": {
      "name": "python"
    }
  },
  "cells": [
    {
      "cell_type": "markdown",
      "metadata": {
        "id": "qo5jyFRfpFtQ"
      },
      "source": [
        "# Task 2"
      ]
    },
    {
      "cell_type": "markdown",
      "metadata": {
        "id": "0hUt2u3dLV96"
      },
      "source": [
        "Please Upload the CSV file before running the notebook. Or set the path accordingly"
      ]
    },
    {
      "cell_type": "code",
      "metadata": {
        "id": "VW5ZKIGjpXpY"
      },
      "source": [
        "import pandas as pd\n",
        "\n",
        "path = '/content/task2.csv'\n",
        "\n",
        "df = pd.read_csv(path)"
      ],
      "execution_count": 86,
      "outputs": []
    },
    {
      "cell_type": "code",
      "metadata": {
        "colab": {
          "base_uri": "https://localhost:8080/",
          "height": 206
        },
        "id": "cKlQXgt4pHCG",
        "outputId": "c150abf4-1e1d-4bf7-b7d0-80bdd0359d1a"
      },
      "source": [
        "# Glimpse of data\n",
        "df.head(5)"
      ],
      "execution_count": 73,
      "outputs": [
        {
          "output_type": "execute_result",
          "data": {
            "text/html": [
              "<div>\n",
              "<style scoped>\n",
              "    .dataframe tbody tr th:only-of-type {\n",
              "        vertical-align: middle;\n",
              "    }\n",
              "\n",
              "    .dataframe tbody tr th {\n",
              "        vertical-align: top;\n",
              "    }\n",
              "\n",
              "    .dataframe thead th {\n",
              "        text-align: right;\n",
              "    }\n",
              "</style>\n",
              "<table border=\"1\" class=\"dataframe\">\n",
              "  <thead>\n",
              "    <tr style=\"text-align: right;\">\n",
              "      <th></th>\n",
              "      <th>ID</th>\n",
              "      <th>Segment type</th>\n",
              "      <th>Segment Description</th>\n",
              "      <th>Answer</th>\n",
              "      <th>Count</th>\n",
              "      <th>Percentage</th>\n",
              "      <th>It became a relationship</th>\n",
              "    </tr>\n",
              "  </thead>\n",
              "  <tbody>\n",
              "    <tr>\n",
              "      <th>0</th>\n",
              "      <td>292890.8970</td>\n",
              "      <td>web</td>\n",
              "      <td>Meridian, Idaho</td>\n",
              "      <td>No</td>\n",
              "      <td>0.000000</td>\n",
              "      <td>0.000000</td>\n",
              "      <td>0</td>\n",
              "    </tr>\n",
              "    <tr>\n",
              "      <th>1</th>\n",
              "      <td>292887.9870</td>\n",
              "      <td>web</td>\n",
              "      <td>Meridian, Idaho</td>\n",
              "      <td>No</td>\n",
              "      <td>0.000000</td>\n",
              "      <td>0.000000</td>\n",
              "      <td>0</td>\n",
              "    </tr>\n",
              "    <tr>\n",
              "      <th>2</th>\n",
              "      <td>292894.0656</td>\n",
              "      <td>gender</td>\n",
              "      <td>Meridian, Idaho</td>\n",
              "      <td>No</td>\n",
              "      <td>499.173606</td>\n",
              "      <td>0.225255</td>\n",
              "      <td>0</td>\n",
              "    </tr>\n",
              "    <tr>\n",
              "      <th>3</th>\n",
              "      <td>292887.1180</td>\n",
              "      <td>web</td>\n",
              "      <td>Meridian, Idaho</td>\n",
              "      <td>No</td>\n",
              "      <td>0.000000</td>\n",
              "      <td>0.000000</td>\n",
              "      <td>0</td>\n",
              "    </tr>\n",
              "    <tr>\n",
              "      <th>4</th>\n",
              "      <td>292893.6561</td>\n",
              "      <td>gender</td>\n",
              "      <td>Meridian, Idaho</td>\n",
              "      <td>No</td>\n",
              "      <td>455.925963</td>\n",
              "      <td>0.211360</td>\n",
              "      <td>0</td>\n",
              "    </tr>\n",
              "  </tbody>\n",
              "</table>\n",
              "</div>"
            ],
            "text/plain": [
              "            ID Segment type  ... Percentage It became a relationship\n",
              "0  292890.8970          web  ...   0.000000                        0\n",
              "1  292887.9870          web  ...   0.000000                        0\n",
              "2  292894.0656       gender  ...   0.225255                        0\n",
              "3  292887.1180          web  ...   0.000000                        0\n",
              "4  292893.6561       gender  ...   0.211360                        0\n",
              "\n",
              "[5 rows x 7 columns]"
            ]
          },
          "metadata": {
            "tags": []
          },
          "execution_count": 73
        }
      ]
    },
    {
      "cell_type": "code",
      "metadata": {
        "colab": {
          "base_uri": "https://localhost:8080/"
        },
        "id": "aDkc6XoU7T0T",
        "outputId": "7cbb2668-a4fb-4eae-d899-0d906c993584"
      },
      "source": [
        "# Checking the data types of columns\n",
        "df.dtypes"
      ],
      "execution_count": 74,
      "outputs": [
        {
          "output_type": "execute_result",
          "data": {
            "text/plain": [
              "ID                          float64\n",
              "Segment type                 object\n",
              "Segment Description          object\n",
              "Answer                       object\n",
              "Count                       float64\n",
              "Percentage                  float64\n",
              "It became a relationship      int64\n",
              "dtype: object"
            ]
          },
          "metadata": {
            "tags": []
          },
          "execution_count": 74
        }
      ]
    },
    {
      "cell_type": "code",
      "metadata": {
        "colab": {
          "base_uri": "https://localhost:8080/"
        },
        "id": "F_7nxD2ZqG_l",
        "outputId": "f77fbdb9-b884-407a-fa35-49769f3f370b"
      },
      "source": [
        "# checking the shape of data\n",
        "df.shape"
      ],
      "execution_count": 75,
      "outputs": [
        {
          "output_type": "execute_result",
          "data": {
            "text/plain": [
              "(1896, 7)"
            ]
          },
          "metadata": {
            "tags": []
          },
          "execution_count": 75
        }
      ]
    },
    {
      "cell_type": "code",
      "metadata": {
        "colab": {
          "base_uri": "https://localhost:8080/"
        },
        "id": "RDBHmWwIqjuS",
        "outputId": "ef6f16f6-3cbc-42fd-9bf9-36d6609b4f0d"
      },
      "source": [
        "# Column names\n",
        "df.columns"
      ],
      "execution_count": 76,
      "outputs": [
        {
          "output_type": "execute_result",
          "data": {
            "text/plain": [
              "Index(['ID', 'Segment type', 'Segment Description', 'Answer', 'Count',\n",
              "       'Percentage', 'It became a relationship'],\n",
              "      dtype='object')"
            ]
          },
          "metadata": {
            "tags": []
          },
          "execution_count": 76
        }
      ]
    },
    {
      "cell_type": "code",
      "metadata": {
        "colab": {
          "base_uri": "https://localhost:8080/"
        },
        "id": "sKv8zOozpha7",
        "outputId": "008f1b40-ca6e-46c7-8be3-fe5148675ec8"
      },
      "source": [
        "# Checking for missing values\n",
        "df.isna().sum()"
      ],
      "execution_count": 77,
      "outputs": [
        {
          "output_type": "execute_result",
          "data": {
            "text/plain": [
              "ID                          0\n",
              "Segment type                0\n",
              "Segment Description         0\n",
              "Answer                      0\n",
              "Count                       0\n",
              "Percentage                  0\n",
              "It became a relationship    0\n",
              "dtype: int64"
            ]
          },
          "metadata": {
            "tags": []
          },
          "execution_count": 77
        }
      ]
    },
    {
      "cell_type": "code",
      "metadata": {
        "colab": {
          "base_uri": "https://localhost:8080/"
        },
        "id": "18LLszVM7o3U",
        "outputId": "b3c57558-bfcd-494c-a53c-a739412e380a"
      },
      "source": [
        "# Different types of universities\n",
        "df['Segment Description'].unique().shape"
      ],
      "execution_count": 78,
      "outputs": [
        {
          "output_type": "execute_result",
          "data": {
            "text/plain": [
              "(148,)"
            ]
          },
          "metadata": {
            "tags": []
          },
          "execution_count": 78
        }
      ]
    },
    {
      "cell_type": "code",
      "metadata": {
        "colab": {
          "base_uri": "https://localhost:8080/"
        },
        "id": "DpBjVJaO8Ntu",
        "outputId": "d744c1c5-e164-49ba-c83a-a0294a576e07"
      },
      "source": [
        "# Different types of Medium of usage\n",
        "df['Segment type'].unique().shape"
      ],
      "execution_count": 79,
      "outputs": [
        {
          "output_type": "execute_result",
          "data": {
            "text/plain": [
              "(4,)"
            ]
          },
          "metadata": {
            "tags": []
          },
          "execution_count": 79
        }
      ]
    },
    {
      "cell_type": "code",
      "metadata": {
        "colab": {
          "base_uri": "https://localhost:8080/"
        },
        "id": "rAhA9Ogk8PO_",
        "outputId": "aea9f67a-7656-42ad-8ce5-c78f3299471b"
      },
      "source": [
        "# Different types of categories of usage\n",
        "df['Answer'].unique().shape"
      ],
      "execution_count": 80,
      "outputs": [
        {
          "output_type": "execute_result",
          "data": {
            "text/plain": [
              "(3,)"
            ]
          },
          "metadata": {
            "tags": []
          },
          "execution_count": 80
        }
      ]
    },
    {
      "cell_type": "code",
      "metadata": {
        "id": "9Zd7-xEk_ALt"
      },
      "source": [
        "#Handling categorical value to numerical\n",
        "\n",
        "df['Answer'] = df['Answer'].astype('category')\n",
        "df['Segment type'] = df['Segment type'].astype('category')\n",
        "df['Segment Description'] = df['Segment Description'].astype('category')\n",
        "\n",
        "\n",
        "\n",
        "df['Answer'] = df['Answer'].cat.codes\n",
        "df['Segment type'] = df['Segment type'].cat.codes\n",
        "df['Segment Description'] = df['Segment Description'].cat.codes\n"
      ],
      "execution_count": 81,
      "outputs": []
    },
    {
      "cell_type": "code",
      "metadata": {
        "id": "K1TO7gD-zyMU"
      },
      "source": [
        "# Splitting the data to train and test set\n",
        "\n",
        "from sklearn.model_selection import train_test_split\n",
        "\n",
        "X_train, X_test, Y_train, Y_test  = train_test_split(df.drop('It became a relationship', axis = 1), df['It became a relationship'] , test_size=0.2, random_state = 0)"
      ],
      "execution_count": 82,
      "outputs": []
    },
    {
      "cell_type": "code",
      "metadata": {
        "id": "BYU4WpaCz5Qb"
      },
      "source": [
        "from sklearn.metrics import accuracy_score, log_loss\n",
        "from sklearn.neighbors import KNeighborsClassifier\n",
        "from sklearn.linear_model import LogisticRegression\n",
        "\n",
        "\n",
        "# Choosing Models\n",
        "\n",
        "classifiers = [\n",
        "    KNeighborsClassifier(3),\n",
        "    LogisticRegression(random_state=0)]"
      ],
      "execution_count": 84,
      "outputs": []
    },
    {
      "cell_type": "code",
      "metadata": {
        "colab": {
          "base_uri": "https://localhost:8080/"
        },
        "id": "a8J5mtvtz7HG",
        "outputId": "32709b34-235a-4e6f-e660-2e34a2d0a480"
      },
      "source": [
        "# Applying Models to find Accuracy\n",
        "\n",
        "for classifier in classifiers:\n",
        "    model = classifier.fit(X_train, Y_train)\n",
        "    print(classifier)\n",
        "    print(\"model score: %.3f\" % model.score(X_test, Y_test))"
      ],
      "execution_count": 85,
      "outputs": [
        {
          "output_type": "stream",
          "text": [
            "KNeighborsClassifier(algorithm='auto', leaf_size=30, metric='minkowski',\n",
            "                     metric_params=None, n_jobs=None, n_neighbors=3, p=2,\n",
            "                     weights='uniform')\n",
            "model score: 0.863\n",
            "LogisticRegression(C=1.0, class_weight=None, dual=False, fit_intercept=True,\n",
            "                   intercept_scaling=1, l1_ratio=None, max_iter=100,\n",
            "                   multi_class='auto', n_jobs=None, penalty='l2',\n",
            "                   random_state=0, solver='lbfgs', tol=0.0001, verbose=0,\n",
            "                   warm_start=False)\n",
            "model score: 0.616\n"
          ],
          "name": "stdout"
        }
      ]
    }
  ]
}